{
 "cells": [
  {
   "cell_type": "markdown",
   "id": "d2a26fa5",
   "metadata": {
    "cellUniqueIdByVincent": "6ef65"
   },
   "source": [
    "## 📄 Dataset Description\n",
    "\n",
    "This dataset captures the structure, style, and goals of personalized workout programs. It includes key attributes such as program length, time per workout, goal type, equipment used, fitness level, and total number of exercises. The dataset is designed to help analyze patterns in workout preferences and to build machine learning models that predict fitness goals or recommend programs based on user needs.\n",
    "\n",
    "\n",
    "\n",
    "### Column Descriptions\n",
    "\n",
    "| Column Name       | Description                                                              |\n",
    "| :---------------- | :----------------------------------------------------------------------- |\n",
    "| `Program_Length`  | Total length of the workout program (in weeks).                          |\n",
    "| `Time_Per_Workout`| Average time spent per workout session (in minutes).                     |\n",
    "| `Level`           | User experience level (Beginner, Intermediate, Advanced).                |\n",
    "| `Goal`            | Main fitness goal (Fat Loss, Muscle Gain, Endurance, Flexibility).       |\n",
    "| `Equipment`       | Type of equipment required (Bodyweight, Dumbbells, Resistance Bands, etc.).|\n",
    "| `Total_Exercises` | Number of different exercises included in the workout plan.              |"
   ]
  },
  {
   "cell_type": "code",
   "execution_count": 133,
   "metadata": {
    "cellUniqueIdByVincent": "0d7f0"
   },
   "outputs": [],
   "source": [
    "import pandas as pd \n",
    "import numpy as np\n",
    "import tensorflow as tf\n",
    "import matplotlib.pyplot as plt \n",
    "import seaborn as sns\n",
    "from sklearn.model_selection import train_test_split\n",
    "import ast\n",
    "from collections import Counter\n",
    "from sklearn.preprocessing import StandardScaler\n",
    "from sklearn.metrics.pairwise import cosine_similarity\n",
    "from sklearn.feature_extraction.text import TfidfVectorizer\n",
    "\n",
    "np.random.seed(42)"
   ]
  },
  {
   "cell_type": "code",
   "execution_count": 134,
   "metadata": {
    "cellUniqueIdByVincent": "eecff"
   },
   "outputs": [],
   "source": [
    "df = pd.read_csv('../data/fitness_and_workout_dataset.csv')"
   ]
  },
  {
   "cell_type": "code",
   "execution_count": 135,
   "metadata": {
    "cellUniqueIdByVincent": "3cbeb"
   },
   "outputs": [
    {
     "data": {
      "text/html": [
       "<div>\n",
       "<style scoped>\n",
       "    .dataframe tbody tr th:only-of-type {\n",
       "        vertical-align: middle;\n",
       "    }\n",
       "\n",
       "    .dataframe tbody tr th {\n",
       "        vertical-align: top;\n",
       "    }\n",
       "\n",
       "    .dataframe thead th {\n",
       "        text-align: right;\n",
       "    }\n",
       "</style>\n",
       "<table border=\"1\" class=\"dataframe\">\n",
       "  <thead>\n",
       "    <tr style=\"text-align: right;\">\n",
       "      <th></th>\n",
       "      <th>title</th>\n",
       "      <th>description</th>\n",
       "      <th>level</th>\n",
       "      <th>goal</th>\n",
       "      <th>equipment</th>\n",
       "      <th>program_length</th>\n",
       "      <th>time_per_workout</th>\n",
       "      <th>total_exercises</th>\n",
       "      <th>created</th>\n",
       "      <th>last_edit</th>\n",
       "    </tr>\n",
       "  </thead>\n",
       "  <tbody>\n",
       "    <tr>\n",
       "      <th>0</th>\n",
       "      <td>(MASS MONSTER) High Intensity 4 Day Upper Lowe...</td>\n",
       "      <td>Build tones of muscular with this high intensi...</td>\n",
       "      <td>['Intermediate']</td>\n",
       "      <td>['Muscle &amp; Sculpting', 'Bodyweight Fitness']</td>\n",
       "      <td>Full Gym</td>\n",
       "      <td>12.0</td>\n",
       "      <td>90.0</td>\n",
       "      <td>384</td>\n",
       "      <td>2024-01-20 10:23:00</td>\n",
       "      <td>2025-06-29 12:39:00</td>\n",
       "    </tr>\n",
       "    <tr>\n",
       "      <th>1</th>\n",
       "      <td>(NOT MY PROGRAM)SHJ Jotaro</td>\n",
       "      <td>Build strength and size</td>\n",
       "      <td>['Advanced', 'Intermediate']</td>\n",
       "      <td>['Bodybuilding']</td>\n",
       "      <td>Full Gym</td>\n",
       "      <td>8.0</td>\n",
       "      <td>60.0</td>\n",
       "      <td>224</td>\n",
       "      <td>2024-07-08 02:28:00</td>\n",
       "      <td>2025-06-18 09:15:00</td>\n",
       "    </tr>\n",
       "    <tr>\n",
       "      <th>2</th>\n",
       "      <td>1 PowerLift Per Day Powerbuilding 5 Day Bro Split</td>\n",
       "      <td>Based off of Andy Baker's KCS (Kingwood Streng...</td>\n",
       "      <td>['Beginner', 'Novice', 'Intermediate']</td>\n",
       "      <td>['Athletics', 'Powerlifting', 'Powerbuilding']</td>\n",
       "      <td>Full Gym</td>\n",
       "      <td>6.0</td>\n",
       "      <td>90.0</td>\n",
       "      <td>237</td>\n",
       "      <td>2025-04-23 09:21:00</td>\n",
       "      <td>2025-06-18 11:55:00</td>\n",
       "    </tr>\n",
       "    <tr>\n",
       "      <th>3</th>\n",
       "      <td>10 Week Mass Building Program</td>\n",
       "      <td>This workout is designed to increase your musc...</td>\n",
       "      <td>['Intermediate', 'Advanced']</td>\n",
       "      <td>['Powerbuilding']</td>\n",
       "      <td>Garage Gym</td>\n",
       "      <td>10.0</td>\n",
       "      <td>70.0</td>\n",
       "      <td>280</td>\n",
       "      <td>2024-09-07 03:44:00</td>\n",
       "      <td>2025-06-18 08:01:00</td>\n",
       "    </tr>\n",
       "    <tr>\n",
       "      <th>4</th>\n",
       "      <td>10 week deadlift focus</td>\n",
       "      <td>Increase deadlift</td>\n",
       "      <td>['Intermediate', 'Advanced']</td>\n",
       "      <td>['Powerbuilding', 'Powerlifting', 'Bodybuildin...</td>\n",
       "      <td>Full Gym</td>\n",
       "      <td>10.0</td>\n",
       "      <td>80.0</td>\n",
       "      <td>356</td>\n",
       "      <td>2024-12-23 03:13:00</td>\n",
       "      <td>2025-06-18 12:19:00</td>\n",
       "    </tr>\n",
       "  </tbody>\n",
       "</table>\n",
       "</div>"
      ],
      "text/plain": [
       "                                               title  \\\n",
       "0  (MASS MONSTER) High Intensity 4 Day Upper Lowe...   \n",
       "1                         (NOT MY PROGRAM)SHJ Jotaro   \n",
       "2  1 PowerLift Per Day Powerbuilding 5 Day Bro Split   \n",
       "3                      10 Week Mass Building Program   \n",
       "4                             10 week deadlift focus   \n",
       "\n",
       "                                         description  \\\n",
       "0  Build tones of muscular with this high intensi...   \n",
       "1                            Build strength and size   \n",
       "2  Based off of Andy Baker's KCS (Kingwood Streng...   \n",
       "3  This workout is designed to increase your musc...   \n",
       "4                                  Increase deadlift   \n",
       "\n",
       "                                    level  \\\n",
       "0                        ['Intermediate']   \n",
       "1            ['Advanced', 'Intermediate']   \n",
       "2  ['Beginner', 'Novice', 'Intermediate']   \n",
       "3            ['Intermediate', 'Advanced']   \n",
       "4            ['Intermediate', 'Advanced']   \n",
       "\n",
       "                                                goal   equipment  \\\n",
       "0       ['Muscle & Sculpting', 'Bodyweight Fitness']    Full Gym   \n",
       "1                                   ['Bodybuilding']    Full Gym   \n",
       "2     ['Athletics', 'Powerlifting', 'Powerbuilding']    Full Gym   \n",
       "3                                  ['Powerbuilding']  Garage Gym   \n",
       "4  ['Powerbuilding', 'Powerlifting', 'Bodybuildin...    Full Gym   \n",
       "\n",
       "   program_length  time_per_workout  total_exercises              created  \\\n",
       "0            12.0              90.0              384  2024-01-20 10:23:00   \n",
       "1             8.0              60.0              224  2024-07-08 02:28:00   \n",
       "2             6.0              90.0              237  2025-04-23 09:21:00   \n",
       "3            10.0              70.0              280  2024-09-07 03:44:00   \n",
       "4            10.0              80.0              356  2024-12-23 03:13:00   \n",
       "\n",
       "             last_edit  \n",
       "0  2025-06-29 12:39:00  \n",
       "1  2025-06-18 09:15:00  \n",
       "2  2025-06-18 11:55:00  \n",
       "3  2025-06-18 08:01:00  \n",
       "4  2025-06-18 12:19:00  "
      ]
     },
     "execution_count": 135,
     "metadata": {},
     "output_type": "execute_result"
    }
   ],
   "source": [
    "df.head()"
   ]
  },
  {
   "cell_type": "markdown",
   "metadata": {
    "cellUniqueIdByVincent": "b4f1f"
   },
   "source": [
    "## 📃 EDA (Exploratory Data Analysis)"
   ]
  },
  {
   "cell_type": "markdown",
   "metadata": {
    "cellUniqueIdByVincent": "fe82d"
   },
   "source": [
    "### 1. Basic Understanding of Dataset"
   ]
  },
  {
   "cell_type": "code",
   "execution_count": 136,
   "metadata": {
    "cellUniqueIdByVincent": "90b56"
   },
   "outputs": [
    {
     "name": "stdout",
     "output_type": "stream",
     "text": [
      "Shape dataset: (2598, 10)\n"
     ]
    }
   ],
   "source": [
    "print('Shape dataset:', df.shape)"
   ]
  },
  {
   "cell_type": "code",
   "execution_count": 137,
   "metadata": {
    "cellUniqueIdByVincent": "1dc80"
   },
   "outputs": [
    {
     "name": "stdout",
     "output_type": "stream",
     "text": [
      "Info dataset:\n",
      "<class 'pandas.core.frame.DataFrame'>\n",
      "RangeIndex: 2598 entries, 0 to 2597\n",
      "Data columns (total 10 columns):\n",
      " #   Column            Non-Null Count  Dtype  \n",
      "---  ------            --------------  -----  \n",
      " 0   title             2598 non-null   object \n",
      " 1   description       2594 non-null   object \n",
      " 2   level             2598 non-null   object \n",
      " 3   goal              2598 non-null   object \n",
      " 4   equipment         2597 non-null   object \n",
      " 5   program_length    2597 non-null   float64\n",
      " 6   time_per_workout  2598 non-null   float64\n",
      " 7   total_exercises   2598 non-null   int64  \n",
      " 8   created           2597 non-null   object \n",
      " 9   last_edit         2596 non-null   object \n",
      "dtypes: float64(2), int64(1), object(7)\n",
      "memory usage: 203.1+ KB\n"
     ]
    }
   ],
   "source": [
    "print('Info dataset:')\n",
    "df.info()"
   ]
  },
  {
   "cell_type": "code",
   "execution_count": 138,
   "metadata": {
    "cellUniqueIdByVincent": "edfe9"
   },
   "outputs": [
    {
     "data": {
      "text/html": [
       "<div>\n",
       "<style scoped>\n",
       "    .dataframe tbody tr th:only-of-type {\n",
       "        vertical-align: middle;\n",
       "    }\n",
       "\n",
       "    .dataframe tbody tr th {\n",
       "        vertical-align: top;\n",
       "    }\n",
       "\n",
       "    .dataframe thead th {\n",
       "        text-align: right;\n",
       "    }\n",
       "</style>\n",
       "<table border=\"1\" class=\"dataframe\">\n",
       "  <thead>\n",
       "    <tr style=\"text-align: right;\">\n",
       "      <th></th>\n",
       "      <th>program_length</th>\n",
       "      <th>time_per_workout</th>\n",
       "      <th>total_exercises</th>\n",
       "    </tr>\n",
       "  </thead>\n",
       "  <tbody>\n",
       "    <tr>\n",
       "      <th>count</th>\n",
       "      <td>2597.0</td>\n",
       "      <td>2598.0</td>\n",
       "      <td>2598.0</td>\n",
       "    </tr>\n",
       "    <tr>\n",
       "      <th>mean</th>\n",
       "      <td>9.0</td>\n",
       "      <td>69.0</td>\n",
       "      <td>233.0</td>\n",
       "    </tr>\n",
       "    <tr>\n",
       "      <th>std</th>\n",
       "      <td>4.0</td>\n",
       "      <td>24.0</td>\n",
       "      <td>208.0</td>\n",
       "    </tr>\n",
       "    <tr>\n",
       "      <th>min</th>\n",
       "      <td>1.0</td>\n",
       "      <td>10.0</td>\n",
       "      <td>1.0</td>\n",
       "    </tr>\n",
       "    <tr>\n",
       "      <th>25%</th>\n",
       "      <td>5.0</td>\n",
       "      <td>60.0</td>\n",
       "      <td>108.0</td>\n",
       "    </tr>\n",
       "    <tr>\n",
       "      <th>50%</th>\n",
       "      <td>8.0</td>\n",
       "      <td>60.0</td>\n",
       "      <td>192.0</td>\n",
       "    </tr>\n",
       "    <tr>\n",
       "      <th>75%</th>\n",
       "      <td>12.0</td>\n",
       "      <td>90.0</td>\n",
       "      <td>308.0</td>\n",
       "    </tr>\n",
       "    <tr>\n",
       "      <th>max</th>\n",
       "      <td>18.0</td>\n",
       "      <td>180.0</td>\n",
       "      <td>5040.0</td>\n",
       "    </tr>\n",
       "  </tbody>\n",
       "</table>\n",
       "</div>"
      ],
      "text/plain": [
       "       program_length  time_per_workout  total_exercises\n",
       "count          2597.0            2598.0           2598.0\n",
       "mean              9.0              69.0            233.0\n",
       "std               4.0              24.0            208.0\n",
       "min               1.0              10.0              1.0\n",
       "25%               5.0              60.0            108.0\n",
       "50%               8.0              60.0            192.0\n",
       "75%              12.0              90.0            308.0\n",
       "max              18.0             180.0           5040.0"
      ]
     },
     "execution_count": 138,
     "metadata": {},
     "output_type": "execute_result"
    }
   ],
   "source": [
    "# Statistik deskriptif\n",
    "df.describe().round()"
   ]
  },
  {
   "cell_type": "code",
   "execution_count": 139,
   "metadata": {
    "cellUniqueIdByVincent": "1b6d1"
   },
   "outputs": [
    {
     "data": {
      "text/html": [
       "<div>\n",
       "<style scoped>\n",
       "    .dataframe tbody tr th:only-of-type {\n",
       "        vertical-align: middle;\n",
       "    }\n",
       "\n",
       "    .dataframe tbody tr th {\n",
       "        vertical-align: top;\n",
       "    }\n",
       "\n",
       "    .dataframe thead th {\n",
       "        text-align: right;\n",
       "    }\n",
       "</style>\n",
       "<table border=\"1\" class=\"dataframe\">\n",
       "  <thead>\n",
       "    <tr style=\"text-align: right;\">\n",
       "      <th></th>\n",
       "      <th>title</th>\n",
       "      <th>description</th>\n",
       "      <th>level</th>\n",
       "      <th>goal</th>\n",
       "      <th>equipment</th>\n",
       "      <th>created</th>\n",
       "      <th>last_edit</th>\n",
       "    </tr>\n",
       "  </thead>\n",
       "  <tbody>\n",
       "    <tr>\n",
       "      <th>count</th>\n",
       "      <td>2598</td>\n",
       "      <td>2594</td>\n",
       "      <td>2598</td>\n",
       "      <td>2598</td>\n",
       "      <td>2597</td>\n",
       "      <td>2597</td>\n",
       "      <td>2596</td>\n",
       "    </tr>\n",
       "    <tr>\n",
       "      <th>unique</th>\n",
       "      <td>2598</td>\n",
       "      <td>2494</td>\n",
       "      <td>44</td>\n",
       "      <td>179</td>\n",
       "      <td>4</td>\n",
       "      <td>2585</td>\n",
       "      <td>605</td>\n",
       "    </tr>\n",
       "    <tr>\n",
       "      <th>top</th>\n",
       "      <td>🥷🥷🥷</td>\n",
       "      <td>Hypertrophy</td>\n",
       "      <td>['Intermediate']</td>\n",
       "      <td>['Bodybuilding']</td>\n",
       "      <td>Full Gym</td>\n",
       "      <td>2024-12-09 07:15:00</td>\n",
       "      <td>2025-06-18 07:49:00</td>\n",
       "    </tr>\n",
       "    <tr>\n",
       "      <th>freq</th>\n",
       "      <td>1</td>\n",
       "      <td>11</td>\n",
       "      <td>622</td>\n",
       "      <td>574</td>\n",
       "      <td>1848</td>\n",
       "      <td>2</td>\n",
       "      <td>16</td>\n",
       "    </tr>\n",
       "  </tbody>\n",
       "</table>\n",
       "</div>"
      ],
      "text/plain": [
       "       title  description             level              goal equipment  \\\n",
       "count   2598         2594              2598              2598      2597   \n",
       "unique  2598         2494                44               179         4   \n",
       "top      🥷🥷🥷  Hypertrophy  ['Intermediate']  ['Bodybuilding']  Full Gym   \n",
       "freq       1           11               622               574      1848   \n",
       "\n",
       "                    created            last_edit  \n",
       "count                  2597                 2596  \n",
       "unique                 2585                  605  \n",
       "top     2024-12-09 07:15:00  2025-06-18 07:49:00  \n",
       "freq                      2                   16  "
      ]
     },
     "execution_count": 139,
     "metadata": {},
     "output_type": "execute_result"
    }
   ],
   "source": [
    "df.describe(include=['O'])"
   ]
  },
  {
   "cell_type": "code",
   "execution_count": 140,
   "metadata": {
    "cellUniqueIdByVincent": "a526d"
   },
   "outputs": [
    {
     "name": "stdout",
     "output_type": "stream",
     "text": [
      "Missing values:\n",
      " title               0\n",
      "description         4\n",
      "level               0\n",
      "goal                0\n",
      "equipment           1\n",
      "program_length      1\n",
      "time_per_workout    0\n",
      "total_exercises     0\n",
      "created             1\n",
      "last_edit           2\n",
      "dtype: int64\n"
     ]
    }
   ],
   "source": [
    "# Check missing values\n",
    "print(\"Missing values:\\n\", df.isnull().sum())"
   ]
  },
  {
   "cell_type": "markdown",
   "metadata": {
    "cellUniqueIdByVincent": "33857"
   },
   "source": [
    "There are 5 columns are missing values:\n",
    "- description\n",
    "- equipment\n",
    "- program_length\n",
    "- created\n",
    "- last_edit\n"
   ]
  },
  {
   "cell_type": "code",
   "execution_count": 141,
   "metadata": {
    "cellUniqueIdByVincent": "d651c"
   },
   "outputs": [],
   "source": [
    "df.dropna(inplace=True)"
   ]
  },
  {
   "cell_type": "code",
   "execution_count": 142,
   "metadata": {
    "cellUniqueIdByVincent": "de2c1"
   },
   "outputs": [
    {
     "data": {
      "text/plain": [
       "title               0\n",
       "description         0\n",
       "level               0\n",
       "goal                0\n",
       "equipment           0\n",
       "program_length      0\n",
       "time_per_workout    0\n",
       "total_exercises     0\n",
       "created             0\n",
       "last_edit           0\n",
       "dtype: int64"
      ]
     },
     "execution_count": 142,
     "metadata": {},
     "output_type": "execute_result"
    }
   ],
   "source": [
    "df.isnull().sum()"
   ]
  },
  {
   "cell_type": "code",
   "execution_count": 143,
   "metadata": {
    "cellUniqueIdByVincent": "31b9b"
   },
   "outputs": [
    {
     "name": "stdout",
     "output_type": "stream",
     "text": [
      "Duplicate rows: 0\n"
     ]
    }
   ],
   "source": [
    "print(f'Duplicate rows: {df.duplicated().sum()}')"
   ]
  },
  {
   "cell_type": "markdown",
   "metadata": {
    "cellUniqueIdByVincent": "55e97"
   },
   "source": [
    "### 2. Analysis of Important Columns"
   ]
  },
  {
   "cell_type": "code",
   "execution_count": 144,
   "metadata": {
    "cellUniqueIdByVincent": "fbb83"
   },
   "outputs": [
    {
     "name": "stdout",
     "output_type": "stream",
     "text": [
      "Unique difficulty levels: ['Intermediate', 'Advanced', 'Novice', 'Beginner']\n",
      "Range duration: 10.0 - 180.0 minutes\n",
      "Goal: ['Athletics', 'Bodyweight Fitness', 'Bodybuilding', 'Powerbuilding', 'Powerlifting', 'Olympic Weightlifting', 'Muscle & Sculpting'] unique values\n",
      "Equipment: ['Full Gym' 'Garage Gym' 'At Home' 'Dumbbell Only'] unique values\n"
     ]
    }
   ],
   "source": [
    "level_list = df['level'].apply(ast.literal_eval)\n",
    "goal_list = df['goal'].apply(ast.literal_eval)\n",
    "all_extracted_words_levels = [word for sublist in level_list for word in sublist]\n",
    "all_extracted_words_goals = [word for sublist in goal_list for word in sublist]\n",
    "\n",
    "print(\"Unique difficulty levels:\", list(set(all_extracted_words_levels)))\n",
    "print(f\"Range duration: {df['time_per_workout'].min()} - {df['time_per_workout'].max()} minutes\")\n",
    "print(f\"Goal: {list(set(all_extracted_words_goals))} unique values\")\n",
    "print(f'Equipment: {df[\"equipment\"].unique()} unique values')\n"
   ]
  },
  {
   "cell_type": "markdown",
   "metadata": {
    "cellUniqueIdByVincent": "dbe76"
   },
   "source": [
    "### 3. Analysis Numeric Columns"
   ]
  },
  {
   "cell_type": "code",
   "execution_count": 145,
   "metadata": {
    "cellUniqueIdByVincent": "0aaff"
   },
   "outputs": [
    {
     "data": {
      "image/png": "[encoded data removed]",
      "text/plain": [
       "<Figure size 1500x500 with 3 Axes>"
      ]
     },
     "metadata": {},
     "output_type": "display_data"
    }
   ],
   "source": [
    "numeric_columns = df.select_dtypes(include=['number']).columns.tolist()\n",
    "\n",
    "# Visualization distribution\n",
    "fig, axes = plt.subplots(1, 3, figsize=(15, 5))\n",
    "for i, col in enumerate(numeric_columns):\n",
    "    axes[i].hist(df[col], bins=30, alpha=0.7)\n",
    "    axes[i].set_title(f'Distribution of {col}')\n",
    "    axes[i].set_xlabel(col)\n",
    "    axes[i].set_ylabel('Frequency')\n",
    "plt.tight_layout()\n",
    "plt.show()"
   ]
  },
  {
   "cell_type": "markdown",
   "metadata": {
    "cellUniqueIdByVincent": "af178"
   },
   "source": [
    "### 4. Analysis Object Columns"
   ]
  },
  {
   "cell_type": "code",
   "execution_count": 146,
   "metadata": {
    "cellUniqueIdByVincent": "4619b"
   },
   "outputs": [
    {
     "data": {
      "image/png": "[encoded data removed]",
      "text/plain": [
       "<Figure size 1000x600 with 1 Axes>"
      ]
     },
     "metadata": {},
     "output_type": "display_data"
    }
   ],
   "source": [
    "# Equipment visualization\n",
    "\n",
    "df['equipment'].value_counts().plot(kind='bar', figsize=(10, 6))\n",
    "plt.title('Equipment Distribution')\n",
    "plt.xlabel('Equipment')\n",
    "plt.ylabel('Count')\n",
    "plt.xticks(rotation=0)\n",
    "plt.show()"
   ]
  },
  {
   "cell_type": "code",
   "execution_count": 147,
   "metadata": {
    "cellUniqueIdByVincent": "5860b"
   },
   "outputs": [
    {
     "data": {
      "image/png": "[encoded data removed]",
      "text/plain": [
       "<Figure size 640x480 with 1 Axes>"
      ]
     },
     "metadata": {},
     "output_type": "display_data"
    }
   ],
   "source": [
    "\n",
    "level_series = pd.Series(dict(Counter(all_extracted_words_levels)))\n",
    "\n",
    "level_series.sort_values(ascending=True).plot(kind='bar')\n",
    "plt.title('Level Distribution')\n",
    "plt.xlabel('Level')\n",
    "plt.ylabel('Count')\n",
    "plt.xticks(rotation=0)\n",
    "plt.show()"
   ]
  },
  {
   "cell_type": "code",
   "execution_count": 148,
   "metadata": {
    "cellUniqueIdByVincent": "88028"
   },
   "outputs": [
    {
     "data": {
      "image/png": "[encoded data removed]",
      "text/plain": [
       "<Figure size 640x480 with 1 Axes>"
      ]
     },
     "metadata": {},
     "output_type": "display_data"
    }
   ],
   "source": [
    "goals_series = pd.Series(dict(Counter(all_extracted_words_goals)))\n",
    "\n",
    "goals_series.sort_values(ascending=True).plot(kind='barh')\n",
    "plt.title('Goals Distribution')\n",
    "plt.xlabel('Goals')\n",
    "plt.ylabel('Count')\n",
    "# plt.xticks(rotation=)\n",
    "plt.show()"
   ]
  },
  {
   "cell_type": "markdown",
   "metadata": {
    "cellUniqueIdByVincent": "ab2b6"
   },
   "source": [
    "## 🤖 Make System Recommendation"
   ]
  },
  {
   "cell_type": "markdown",
   "metadata": {
    "cellUniqueIdByVincent": "56004"
   },
   "source": [
    "### 1. Content-Based Recommendation with Cosine Similarity"
   ]
  },
  {
   "cell_type": "code",
   "execution_count": 149,
   "metadata": {
    "cellUniqueIdByVincent": "e05a9"
   },
   "outputs": [],
   "source": [
    "df_model = df.copy()\n",
    "\n",
    "# Preprocessing untuk kolom level dan goal (ambil yang pertama dari list)\n",
    "def extract_first_value(text):\n",
    "    if pd.isna(text):\n",
    "        return 'Unknown'\n",
    "    # Parse string list dan ambil nilai pertama\n",
    "    try:\n",
    "        values = ast.literal_eval(text)\n",
    "        return values[0] if values else 'Unknown'\n",
    "    except:\n",
    "        return 'Unknown'\n",
    "\n",
    "df_model['primary_level'] = df_model['level'].apply(extract_first_value)\n",
    "df_model['primary_goal'] = df_model['goal'].apply(extract_first_value)"
   ]
  },
  {
   "cell_type": "code",
   "execution_count": 150,
   "metadata": {
    "cellUniqueIdByVincent": "bde7b"
   },
   "outputs": [
    {
     "name": "stdout",
     "output_type": "stream",
     "text": [
      "Content matrix shape: (2592, 19)\n",
      "Numeric features shape: (2592, 3)\n"
     ]
    }
   ],
   "source": [
    "def create_content_features(df):\n",
    "    # Combine categorical features to be text\n",
    "    df_model['context_text'] = (df_model['primary_level'] + ' ' + \n",
    "                                df_model['primary_goal'] + ' ' +\n",
    "                                df_model['equipment'])\n",
    "    \n",
    "    # TF-IDF vectorization for text features\n",
    "    tfidf = TfidfVectorizer(stop_words='english', max_features=1000)\n",
    "    content_matrix = tfidf.fit_transform(df_model['context_text'])\n",
    "    \n",
    "    # Normalize numeric features\n",
    "    scaler = StandardScaler()\n",
    "    numeric_features = ['program_length', 'time_per_workout', 'total_exercises']\n",
    "    numeric_scaled = scaler.fit_transform(df_model[numeric_features])\n",
    "    \n",
    "    return content_matrix, numeric_scaled, tfidf, scaler\n",
    "\n",
    "# Create content features\n",
    "content_matrix, numeric_scaled, tfidf, scaler = create_content_features(df_model)\n",
    "\n",
    "print(f'Content matrix shape: {content_matrix.shape}')\n",
    "print(f'Numeric features shape: {numeric_scaled.shape}')"
   ]
  },
  {
   "cell_type": "markdown",
   "metadata": {
    "cellUniqueIdByVincent": "2e682"
   },
   "source": [
    "### 2. Recommendation Function"
   ]
  },
  {
   "cell_type": "code",
   "execution_count": 151,
   "metadata": {
    "cellUniqueIdByVincent": "cf1b8"
   },
   "outputs": [],
   "source": [
    "def recommend_workouts_improved(target_idx, df, content_matrix, numeric_scaled, \n",
    "                                top_k=5, content_weight=0.7, numeric_weight=0.3):\n",
    "    \"\"\"\n",
    "    Give recommendation workout with hybrid approach\n",
    "    \"\"\"\n",
    "    \n",
    "    # Content-based similarity menggunakan cosine similarity\n",
    "    content_sim = cosine_similarity(content_matrix[target_idx], content_matrix).flatten()\n",
    "    \n",
    "    # Numeric similarity using inverse euclidean distance\n",
    "    target_numeric = numeric_scaled[target_idx].reshape(1, -1)\n",
    "    numeric_distances = np.linalg.norm(numeric_scaled - target_numeric, axis=1)\n",
    "    numeric_sim = 1 / (1 + numeric_distances) # Convert distance to similarity\n",
    "    \n",
    "    # Combine similarity score\n",
    "    combined_sim = content_weight * content_sim + numeric_weight * numeric_sim \n",
    "    \n",
    "    # Exclude target workout itself\n",
    "    combined_sim[target_idx] = -1 \n",
    "    \n",
    "    # Get top-k recommendations\n",
    "    top_indices = combined_sim.argsort()[-top_k:][::-1]\n",
    "    top_scores = combined_sim[top_indices]\n",
    "    \n",
    "    return top_indices, top_scores\n",
    "\n",
    "# Tes recommendation\n",
    "target_idx = 0\n",
    "recommendation, scores = recommend_workouts_improved(\n",
    "    target_idx, df_model, content_matrix, numeric_scaled, top_k=5\n",
    ")"
   ]
  },
  {
   "cell_type": "code",
   "execution_count": 154,
   "metadata": {
    "cellUniqueIdByVincent": "dc4d2"
   },
   "outputs": [
    {
     "name": "stdout",
     "output_type": "stream",
     "text": [
      "Target workout: (MASS MONSTER) High Intensity 4 Day Upper Lower Program\n",
      "Level: Intermediate\n",
      "Goal: Muscle & Sculpting\n",
      "Equipment: Full Gym\n",
      "Duration: 90 minutes\n",
      "Program length: 12 weeks\n",
      "============================================================\n",
      "Top Recommendations\n",
      "============================================================\n",
      "1. 12 Weeks Bikini Comp Ready\n",
      "   Level: Intermediate\n",
      "   Goal: Muscle & Sculpting\n",
      "   Equipment: Full Gym\n",
      "   Duration: 90 minutes\n",
      "   Program length: 12 weeks\n",
      "2. Tiger Killer - Orochi Doppo\n",
      "   Level: Intermediate\n",
      "   Goal: Muscle & Sculpting\n",
      "   Equipment: Full Gym\n",
      "   Duration: 80 minutes\n",
      "   Program length: 12 weeks\n",
      "3. 5 Day Strongbuilding\n",
      "   Level: Intermediate\n",
      "   Goal: Muscle & Sculpting\n",
      "   Equipment: Full Gym\n",
      "   Duration: 90 minutes\n",
      "   Program length: 12 weeks\n",
      "4. Ben’s Plan\n",
      "   Level: Intermediate\n",
      "   Goal: Muscle & Sculpting\n",
      "   Equipment: Full Gym\n",
      "   Duration: 90 minutes\n",
      "   Program length: 12 weeks\n",
      "5. Transforma tus glúteos 2\n",
      "   Level: Intermediate\n",
      "   Goal: Muscle & Sculpting\n",
      "   Equipment: Full Gym\n",
      "   Duration: 80 minutes\n",
      "   Program length: 12 weeks\n"
     ]
    }
   ],
   "source": [
    "print(f'Target workout: {df_model.iloc[target_idx][\"title\"]}')\n",
    "print(f'Level: {df_model.iloc[target_idx][\"primary_level\"]}')\n",
    "print(f'Goal: {df_model.iloc[target_idx][\"primary_goal\"]}')\n",
    "print(f'Equipment: {df_model.iloc[target_idx][\"equipment\"]}')\n",
    "print(f'Duration: {df_model.iloc[target_idx][\"time_per_workout\"]:.0f} minutes')\n",
    "print(f'Program length: {df_model.iloc[target_idx][\"program_length\"]:.0f} weeks')\n",
    "\n",
    "print(\"=\"*60)\n",
    "print(\"Top Recommendations\")\n",
    "print(\"=\"*60)\n",
    "\n",
    "for i, (idx, score) in enumerate(zip(recommendation, scores), 1):\n",
    "    print(f'{i}. {df_model.iloc[idx][\"title\"]}')\n",
    "    print(f'   Level: {df_model.iloc[idx][\"primary_level\"]}')\n",
    "    print(f'   Goal: {df_model.iloc[idx][\"primary_goal\"]}')\n",
    "    print(f'   Equipment: {df_model.iloc[idx][\"equipment\"]}')\n",
    "    print(f'   Duration: {df_model.iloc[idx][\"time_per_workout\"]:.0f} minutes')\n",
    "    print(f'   Program length: {df_model.iloc[idx][\"program_length\"]:.0f} weeks')\n",
    "  "
   ]
  },
  {
   "cell_type": "markdown",
   "metadata": {
    "cellUniqueIdByVincent": "9c683"
   },
   "source": [
    "### 3. Evaluation and Visualization"
   ]
  },
  {
   "cell_type": "code",
   "execution_count": 155,
   "metadata": {
    "cellUniqueIdByVincent": "97c6d"
   },
   "outputs": [
    {
     "name": "stdout",
     "output_type": "stream",
     "text": [
      "Recommendation analysis for: (MASS MONSTER) High Intensity 4 Day Upper Lower Program\n",
      "Level matches: 5/5\n",
      "Goal matches: 5/5\n",
      "Equipment matches: 5/5\n"
     ]
    },
    {
     "data": {
      "image/png": "[encoded data removed]",
      "text/plain": [
       "<Figure size 1500x500 with 3 Axes>"
      ]
     },
     "metadata": {},
     "output_type": "display_data"
    }
   ],
   "source": [
    "def analyze_recommendation(target_idx, recommendations, df):\n",
    "    \"\"\" \n",
    "    Analyze quality of recommendations\n",
    "    \"\"\"\n",
    "    target = df_model.iloc[target_idx]\n",
    "    recommended_workouts = df_model.iloc[recommendations]\n",
    "    \n",
    "    # Analyze similarity based on category\n",
    "    level_match = (recommended_workouts['primary_level'] == target['primary_level']).sum()\n",
    "    goal_match = (recommended_workouts['primary_goal'] == target['primary_goal']).sum()\n",
    "    equipment_match = (recommended_workouts['equipment'] == target['equipment']).sum()\n",
    "    \n",
    "    print(f'Recommendation analysis for: {target[\"title\"]}')\n",
    "    print(f\"Level matches: {level_match}/{len(recommendations)}\")\n",
    "    print(f\"Goal matches: {goal_match}/{len(recommendations)}\")\n",
    "    print(f\"Equipment matches: {equipment_match}/{len(recommendations)}\")\n",
    "\n",
    "    fig, axes = plt.subplots(1, 3, figsize=(15, 5))\n",
    "    numeric_cols = ['program_length', 'time_per_workout', 'total_exercises']\n",
    "    for i, col in enumerate(numeric_cols):\n",
    "        target_val = target[col]\n",
    "        rec_vals = recommended_workouts[col]\n",
    "        \n",
    "        axes[i].axvline(target_val, color='red', linestyle='--', label='Target', linewidth=2)\n",
    "        axes[i].hist(rec_vals, bins=10, alpha=0.7, color='skyblue', label='Recommendations')\n",
    "        axes[i].set_title(f'{col.replace(\"_\", \" \").title()}')\n",
    "        axes[i].set_xlabel('Value')\n",
    "        axes[i].set_ylabel('Count')\n",
    "        axes[i].legend()\n",
    "    \n",
    "    plt.tight_layout()\n",
    "    plt.show()\n",
    "    \n",
    "    return level_match, goal_match, equipment_match\n",
    "\n",
    "\n",
    "level_match, goal_match, equipment_match = analyze_recommendation(target_idx, recommendation, df_model)\n"
   ]
  },
  {
   "cell_type": "markdown",
   "metadata": {
    "cellUniqueIdByVincent": "1a1cf"
   },
   "source": [
    "### 4. Interactive Recommendation System"
   ]
  },
  {
   "cell_type": "code",
   "execution_count": 157,
   "metadata": {
    "cellUniqueIdByVincent": "0af45"
   },
   "outputs": [
    {
     "name": "stdout",
     "output_type": "stream",
     "text": [
      "=== FITNESS WORKOUT RECOMMENDATION SYSTEM ===\n",
      "\n",
      "Available Workouts (sample):\n",
      "1. LazyGainz (Dylan’s lifts)...\n",
      "   Level: Beginner | Goal: Bodybuilding\n",
      "   Equipment: Full Gym | Duration: 60min\n",
      "\n",
      "2. 3-Day Full Body(BB, DL, Squat)...\n",
      "   Level: Novice | Goal: Athletics\n",
      "   Equipment: Full Gym | Duration: 60min\n",
      "\n",
      "3. Ash’s Shredded Bod...\n",
      "   Level: Advanced | Goal: Bodybuilding\n",
      "   Equipment: Garage Gym | Duration: 30min\n",
      "\n",
      "4. Nuckols Stronger by Science Bench 3x Advanced...\n",
      "   Level: Intermediate | Goal: Bodybuilding\n",
      "   Equipment: Full Gym | Duration: 60min\n",
      "\n",
      "5. Asians assemble...\n",
      "   Level: Beginner | Goal: Bodyweight Fitness\n",
      "   Equipment: At Home | Duration: 30min\n",
      "\n",
      "6. 4 days full body with weak knees...\n",
      "   Level: Intermediate | Goal: Bodybuilding\n",
      "   Equipment: Full Gym | Duration: 60min\n",
      "\n",
      "7. Private program for myself...\n",
      "   Level: Intermediate | Goal: Bodybuilding\n",
      "   Equipment: Full Gym | Duration: 70min\n",
      "\n",
      "8. X-Athlean GYM machine supersets...\n",
      "   Level: Beginner | Goal: Bodyweight Fitness\n",
      "   Equipment: Full Gym | Duration: 100min\n",
      "\n",
      "9. Dad Program V1.0...\n",
      "   Level: Beginner | Goal: Bodyweight Fitness\n",
      "   Equipment: Full Gym | Duration: 60min\n",
      "\n",
      "10. Strength Sprinkled with Size...\n",
      "   Level: Beginner | Goal: Bodybuilding\n",
      "   Equipment: Full Gym | Duration: 70min\n",
      "\n"
     ]
    },
    {
     "name": "stdout",
     "output_type": "stream",
     "text": [
      "\n",
      "You selected: LazyGainz (Dylan’s lifts)\n",
      "\n",
      "============================================================\n",
      "RECOMMENDATIONS FOR YOU:\n",
      "============================================================\n",
      "\n",
      "1. Kettlebuilding Calisthenics\n",
      "   Match Score: 95.2%\n",
      "   Level: Beginner\n",
      "   Goal: Bodybuilding\n",
      "   Equipment: Full Gym\n",
      "   Duration: 60 minutes\n",
      "\n",
      "2. Physical 100 Workout Program (4 Day Upper Lower)\n",
      "   Match Score: 93.6%\n",
      "   Level: Beginner\n",
      "   Goal: Bodybuilding\n",
      "   Equipment: Full Gym\n",
      "   Duration: 60 minutes\n",
      "\n",
      "3. ABABAB\n",
      "   Match Score: 92.3%\n",
      "   Level: Beginner\n",
      "   Goal: Bodybuilding\n",
      "   Equipment: Full Gym\n",
      "   Duration: 60 minutes\n",
      "\n",
      "4. Train Like Arnold\n",
      "   Match Score: 92.3%\n",
      "   Level: Beginner\n",
      "   Goal: Bodybuilding\n",
      "   Equipment: Full Gym\n",
      "   Duration: 60 minutes\n",
      "\n",
      "5. Peak Male Performance\n",
      "   Match Score: 91.1%\n",
      "   Level: Beginner\n",
      "   Goal: Bodybuilding\n",
      "   Equipment: Full Gym\n",
      "   Duration: 60 minutes\n"
     ]
    }
   ],
   "source": [
    "def interactive_recommendation_system(df, content_matrix, numeric_scaled):\n",
    "\n",
    "    print(\"=== FITNESS WORKOUT RECOMMENDATION SYSTEM ===\\n\")\n",
    "    \n",
    "    # Tampilkan beberapa workout untuk dipilih\n",
    "    print(\"Available Workouts (sample):\")\n",
    "    sample_indices = np.random.choice(len(df), 10, replace=False)\n",
    "    \n",
    "    for i, idx in enumerate(sample_indices):\n",
    "        print(f\"{i+1}. {df.iloc[idx]['title'][:50]}...\")\n",
    "        print(f\"   Level: {df.iloc[idx]['primary_level']} | Goal: {df.iloc[idx]['primary_goal']}\")\n",
    "        print(f\"   Equipment: {df.iloc[idx]['equipment']} | Duration: {df.iloc[idx]['time_per_workout']:.0f}min\")\n",
    "        print()\n",
    "    \n",
    "    # User input\n",
    "    try:\n",
    "        choice = int(input(\"Choose a workout (1-10): \")) - 1\n",
    "        target_idx = sample_indices[choice]\n",
    "        \n",
    "        print(f\"\\nYou selected: {df.iloc[target_idx]['title']}\")\n",
    "        \n",
    "        # Generate recommendations\n",
    "        recommendations, scores = recommend_workouts_improved(\n",
    "            target_idx, df, content_matrix, numeric_scaled, top_k=5\n",
    "        )\n",
    "        \n",
    "        print(\"\\n\" + \"=\"*60)\n",
    "        print(\"RECOMMENDATIONS FOR YOU:\")\n",
    "        print(\"=\"*60)\n",
    "        \n",
    "        for i, (idx, score) in enumerate(zip(recommendations, scores), 1):\n",
    "            print(f\"\\n{i}. {df.iloc[idx]['title']}\")\n",
    "            print(f\"   Match Score: {score:.1%}\")\n",
    "            print(f\"   Level: {df.iloc[idx]['primary_level']}\")\n",
    "            print(f\"   Goal: {df.iloc[idx]['primary_goal']}\")\n",
    "            print(f\"   Equipment: {df.iloc[idx]['equipment']}\")\n",
    "            print(f\"   Duration: {df.iloc[idx]['time_per_workout']:.0f} minutes\")\n",
    "        \n",
    "    except (ValueError, IndexError):\n",
    "        print(\"Invalid choice. Please try again.\")\n",
    "\n",
    "# Jalankan sistem interaktif\n",
    "interactive_recommendation_system(df_model, content_matrix, numeric_scaled)"
   ]
  },
  {
   "cell_type": "markdown",
   "metadata": {
    "cellUniqueIdByVincent": "af981"
   },
   "source": [
    "### 5. Evaluation Performance of System"
   ]
  },
  {
   "cell_type": "code",
   "execution_count": 158,
   "metadata": {
    "cellUniqueIdByVincent": "34c08"
   },
   "outputs": [
    {
     "name": "stdout",
     "output_type": "stream",
     "text": [
      "=== Recommendation System Evaluation ===\n",
      "Tests performed: 100\n",
      "Average level match: 97.6%\n",
      "Average goal match: 99.4%\n",
      "Average equipment match: 98.6%\n",
      "Average similarity score: 0.903\n"
     ]
    }
   ],
   "source": [
    "def evaluate_recommendation_system(df, content_matrix, numeric_scaled, n_tests=100):\n",
    "    results = {\n",
    "        'level_accuracy': [],\n",
    "        'goal_accuracy': [],\n",
    "        'equipment_accuracy': [],\n",
    "        'avg_similarity': []\n",
    "    }\n",
    "    \n",
    "    test_indices = np.random.choice(len(df), n_tests, replace=False)\n",
    "    \n",
    "    for target_idx in test_indices:\n",
    "        recommendations, scores = recommend_workouts_improved(\n",
    "            target_idx, df, content_matrix, numeric_scaled, top_k=5\n",
    "        )\n",
    "        \n",
    "        target = df.iloc[target_idx]\n",
    "        recommended = df.iloc[recommendations]\n",
    "        \n",
    "        # Calculate accuracies\n",
    "        level_acc = (recommended['primary_level'] == target['primary_level']).mean()\n",
    "        goal_acc = (recommended['primary_goal'] == target['primary_goal']).mean()\n",
    "        equipment_acc = (recommended['equipment'] == target['equipment']).mean()\n",
    "        avg_sim = scores.mean()\n",
    "        \n",
    "        results['level_accuracy'].append(level_acc)\n",
    "        results['goal_accuracy'].append(goal_acc)\n",
    "        results['equipment_accuracy'].append(equipment_acc)\n",
    "        results['avg_similarity'].append(avg_sim)\n",
    "        \n",
    "    print(\"=== Recommendation System Evaluation ===\")\n",
    "    print(f'Tests performed: {n_tests}')\n",
    "    print(f'Average level match: {np.mean(results[\"level_accuracy\"]):.1%}')\n",
    "    print(f'Average goal match: {np.mean(results[\"goal_accuracy\"]):.1%}')\n",
    "    print(f'Average equipment match: {np.mean(results[\"equipment_accuracy\"]):.1%}')\n",
    "    print(f'Average similarity score: {np.mean(results[\"avg_similarity\"]):.3f}')\n",
    "    \n",
    "    return results \n",
    "\n",
    "\n",
    "# Evaluation system\n",
    "evaluation_results = evaluate_recommendation_system(df_model, content_matrix, numeric_scaled)"
   ]
  }
 ],
 "metadata": {
  "kernelspec": {
   "display_name": "venv",
   "language": "python",
   "name": "python3"
  },
  "language_info": {
   "codemirror_mode": {
    "name": "ipython",
    "version": 3
   },
   "file_extension": ".py",
   "mimetype": "text/x-python",
   "name": "python",
   "nbconvert_exporter": "python",
   "pygments_lexer": "ipython3",
   "version": "3.12.10"
  },
  "vincent": {
   "sessionId": "b71917766bf48c31b65586fd_2025-08-02T09-30-04-467Z"
  }
 },
 "nbformat": 4,
 "nbformat_minor": 5
}
